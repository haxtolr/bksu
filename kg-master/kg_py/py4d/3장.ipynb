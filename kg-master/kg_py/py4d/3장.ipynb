{
 "cells": [
  {
   "cell_type": "markdown",
   "metadata": {},
   "source": [
    "1. 모듈"
   ]
  },
  {
   "cell_type": "code",
   "execution_count": null,
   "metadata": {},
   "outputs": [],
   "source": [
    "import math\n",
    "\n",
    "num1 = math.pow(2,3)\n",
    "num2 = math.sqrt(9)\n",
    "\n",
    "print(num1+num2)"
   ]
  },
  {
   "cell_type": "code",
   "execution_count": null,
   "metadata": {},
   "outputs": [],
   "source": [
    "import math as m\n",
    "\n",
    "num1 = m.pow(2,3)\n",
    "num2 = m.sqrt(9)\n",
    "\n",
    "print(num1+num2)"
   ]
  },
  {
   "cell_type": "code",
   "execution_count": null,
   "metadata": {},
   "outputs": [],
   "source": [
    "from math import *\n",
    "\n",
    "num1 = pow(2,3)\n",
    "num2 = sqrt(9)\n",
    "\n",
    "print(num1 + num2)"
   ]
  },
  {
   "cell_type": "code",
   "execution_count": null,
   "metadata": {},
   "outputs": [],
   "source": [
    "from math import pow\n",
    "\n",
    "num1 = pow(2,3)\n",
    "num2 = sqrt(9) #pow 만 정의함 오류뜸\n",
    "\n",
    "print(num1+num2)"
   ]
  },
  {
   "cell_type": "code",
   "execution_count": null,
   "metadata": {},
   "outputs": [],
   "source": [
    "#random 모듈\n",
    "\n",
    "import random\n",
    "\n",
    "for i in range(5):\n",
    "\tprint(random.random())"
   ]
  },
  {
   "cell_type": "code",
   "execution_count": null,
   "metadata": {},
   "outputs": [],
   "source": [
    "#randint() -> (begin,end)\n",
    "\n",
    "for i in range(5):\n",
    "\tprint(random.randint(1, 10))"
   ]
  },
  {
   "cell_type": "code",
   "execution_count": null,
   "metadata": {},
   "outputs": [],
   "source": [
    "#rangrange -> begin값 포함 ~ end-1 \n",
    "for i in range(5):\n",
    "\tprint(random.randrange(1, 10))"
   ]
  },
  {
   "cell_type": "code",
   "execution_count": null,
   "metadata": {},
   "outputs": [],
   "source": [
    "import random as rd\n",
    "\n",
    "fr = ['사과', '바나나', '딸기', '복숭아']\n",
    "\n",
    "rd.shuffle(fr) #리스트를 무작위로 석음\n",
    "print(fr)"
   ]
  },
  {
   "cell_type": "code",
   "execution_count": null,
   "metadata": {},
   "outputs": [],
   "source": [
    "rd.choice(fr) # 1개 선택\n",
    "rd.choices(fr, k = 2) # 2개 선택 (중복 추출)"
   ]
  },
  {
   "cell_type": "code",
   "execution_count": null,
   "metadata": {},
   "outputs": [],
   "source": [
    "print(rd.sample(fr, 2)) # 2개 선택( 비중복 추출) ex)로또번호\n",
    "print(rd.sample(fr, 3))"
   ]
  },
  {
   "cell_type": "code",
   "execution_count": null,
   "metadata": {},
   "outputs": [],
   "source": [
    "#로또 생성기\n",
    "\n",
    "num = []\n",
    "for i in range(1, 46):\n",
    "\tnum.append(i)\n",
    "\n",
    "print(sorted(rd.sample(num, 6)))"
   ]
  },
  {
   "cell_type": "code",
   "execution_count": null,
   "metadata": {},
   "outputs": [],
   "source": [
    "import random as rd\n",
    "\n",
    "num1, num2 = rd.sample(range(1, 101), 2)\n",
    "\n",
    "re = int(input(f\"{num1}와 {num2}의 합을 구하시요\"))\n",
    "\n",
    "if re == num1 + num2:\n",
    "\tprint(\"정답\")\n",
    "else:\n",
    "\tprint(\"오답\")"
   ]
  },
  {
   "cell_type": "code",
   "execution_count": null,
   "metadata": {},
   "outputs": [],
   "source": [
    "import random as rd\n",
    "\n",
    "num = rd.sample(range(1, 101), 2)\n",
    "\n",
    "re = int(input(f\"{num[0]}와 {num[1]}의 합을 구하시요\"))\n",
    "\n",
    "if re == num[0] + num[1]:\n",
    "\tprint(\"정답\")\n",
    "else:\n",
    "\tprint(\"오답\")"
   ]
  },
  {
   "cell_type": "code",
   "execution_count": null,
   "metadata": {},
   "outputs": [],
   "source": [
    "print(abs(-10))\n",
    "print(all([0, 1, 0, 1]))\n",
    "print(any([0, 1, 0, 1]))\n",
    "\n",
    "fr = ['사과', '딸기', '바나나', '복숭아']\n",
    "for i, letter in enumerate(fr):\n",
    "\tprint(i , letter)\n",
    "\n",
    "print()\n",
    "\n",
    "for i, letter in enumerate(fr, start=1):\n",
    "\tprint(i, letter)"
   ]
  },
  {
   "cell_type": "code",
   "execution_count": null,
   "metadata": {},
   "outputs": [],
   "source": [
    "a = input()\n",
    "print(a)\n",
    "\n",
    "b = input(f\"{a} enter : \")\n",
    "print(b)"
   ]
  },
  {
   "cell_type": "code",
   "execution_count": null,
   "metadata": {},
   "outputs": [],
   "source": [
    "print(hex(234))\n",
    "print(hex(3))"
   ]
  },
  {
   "cell_type": "code",
   "execution_count": null,
   "metadata": {},
   "outputs": [],
   "source": [
    "print(int('3'))\n",
    "print(int(3.4))\n",
    "\n",
    "\n",
    "print(list((1,2,3)))\n",
    "print(max(\"Python\"))\n",
    "print(min(\"Python\"))\n",
    "print()\n",
    "#아스키를 -> 문자로 표시\n",
    "print(chr(97))\n",
    "print(chr(44032))\n",
    "#아스키표시\n",
    "print(ord('a'))\n",
    "print(ord('가'))"
   ]
  },
  {
   "cell_type": "code",
   "execution_count": null,
   "metadata": {},
   "outputs": [],
   "source": [
    "print(range(5))\n",
    "print(list(range(5))) # 리스트\n",
    "print(tuple(range(5))) # 튜플 o_read\n",
    "print(list(range(5, 10)))\n",
    "print(list(range(1, 11, 2)))\n",
    "print(list(range(1, -10, -1)))\n",
    "\n"
   ]
  },
  {
   "cell_type": "code",
   "execution_count": null,
   "metadata": {},
   "outputs": [],
   "source": [
    "print(\"answer is \" + '12')\n",
    "print(\"answer is \" + str(12))\n",
    "print(\"answer is\", 12)\n"
   ]
  },
  {
   "cell_type": "code",
   "execution_count": null,
   "metadata": {},
   "outputs": [],
   "source": [
    "print(type(\"abc\"))\n",
    "print(type([]))\n",
    "print(type(open('test', 'w')))\n"
   ]
  },
  {
   "cell_type": "code",
   "execution_count": null,
   "metadata": {},
   "outputs": [],
   "source": [
    "print(list(zip([1,2,3],[4,5,6])))\n",
    "\n",
    "print(list(zip([1,2,3],[4,5,6],[7,8,9])))\n",
    "\n",
    "print(list(zip('abc','123')))\n",
    "\n",
    "a,b,c = zip('abc', '123')\n",
    "print(a)\n",
    "print(b)\n",
    "print(c)\n",
    "type(a)\n"
   ]
  },
  {
   "cell_type": "code",
   "execution_count": null,
   "metadata": {},
   "outputs": [],
   "source": [
    "def print_hello():\n",
    "\tprint(\"hello world\")\n",
    "\tprint(\"welcome to my world\")\n"
   ]
  },
  {
   "cell_type": "code",
   "execution_count": null,
   "metadata": {},
   "outputs": [],
   "source": [
    "def add_num(num1, num2):\n",
    "\tresult = num1 + num2\n",
    "\tprint(result)\n",
    "\n",
    "add_num(10, 21)"
   ]
  },
  {
   "cell_type": "code",
   "execution_count": null,
   "metadata": {},
   "outputs": [],
   "source": [
    "import turtle as t\n",
    "\n",
    "def t_tri():\n",
    "\tfor i in range(3):\n",
    "\t\tt.fd(100)\n",
    "\t\tt.left(120)\n",
    "\tt.done()\n",
    "\n",
    "t_tri()"
   ]
  },
  {
   "cell_type": "code",
   "execution_count": null,
   "metadata": {},
   "outputs": [],
   "source": [
    "import turtle as t\n",
    "\n",
    "def t_num(n):\n",
    "\tif n < 3 or n > 9:\n",
    "\t\tprint(\"error\")\n",
    "\telse:\n",
    "\t\tfor i in range(n):\n",
    "\t\t\tt.fd(100)\n",
    "\t\t\tt.left(360/n)\n",
    "\t\tt.done()\n",
    "\t\t\n",
    "n = int(input(\"n = \"))\n",
    "t_num(n)"
   ]
  },
  {
   "cell_type": "code",
   "execution_count": null,
   "metadata": {},
   "outputs": [],
   "source": [
    "def add_num(num1, num2):\n",
    "\tresult = num1 + num2\n",
    "\treturn(result)\n",
    "\n",
    "val = add_num(1, 2)\n",
    "\n",
    "print(val)"
   ]
  },
  {
   "cell_type": "code",
   "execution_count": null,
   "metadata": {},
   "outputs": [],
   "source": [
    "def sqt(num):\n",
    "\treturn(num**2)\n",
    "\n",
    "print(sqt(3))"
   ]
  },
  {
   "cell_type": "code",
   "execution_count": null,
   "metadata": {},
   "outputs": [],
   "source": [
    "def circle_area(n):\n",
    "\treturn(n*n*3.14)\n",
    "\n",
    "n = int(input())\n",
    "print(circle_area(n))"
   ]
  },
  {
   "cell_type": "code",
   "execution_count": null,
   "metadata": {},
   "outputs": [],
   "source": [
    "def FtoC(temp_f):\n",
    "\ttemp_c = (5.0 * (temp_f - 32.0)) / 9.0\n",
    "\treturn(temp_c)\n",
    "\n",
    "temp_f = int(input(\"화씨 입력 : \"))\n",
    "print(f\"화씨 {temp_f} 는 섭씨 {FtoC(temp_f)} 입니다.\")\n"
   ]
  },
  {
   "cell_type": "code",
   "execution_count": null,
   "metadata": {},
   "outputs": [],
   "source": [
    "\n",
    "def is_prime(num):\n",
    "\tfor i in range(2, num):\n",
    "\t\tif num % i == 0:\n",
    "\t\t\treturn False\n",
    "\treturn True\n",
    "\n",
    "num = int(input(\"수를 입력 : \"))\n",
    "\n",
    "if (is_prime(num) == True):\n",
    "\tprint(\"소수입니다.\")\n",
    "else:\n",
    "\tprint(\"소수가 아닙니다.\")"
   ]
  },
  {
   "cell_type": "code",
   "execution_count": null,
   "metadata": {},
   "outputs": [],
   "source": [
    "import math as m \n",
    "\n",
    "def spherVolume(radius):\n",
    "\tval = (4/3) * m.pi * m.pow(radius, 3)\n",
    "\treturn(round(val, 2))\n",
    "radians = int(input(\"구의 반지름 : \"))\n",
    "print(f\"{spherVolume(radians)} 입니다.\")"
   ]
  },
  {
   "cell_type": "code",
   "execution_count": null,
   "metadata": {},
   "outputs": [],
   "source": [
    "def modify(n):\n",
    "\tn = n + 1\n",
    "\n",
    "k = 10\n",
    "print('k=', k)\n",
    "modify(k)\n",
    "print('k=', k)"
   ]
  },
  {
   "cell_type": "code",
   "execution_count": null,
   "metadata": {},
   "outputs": [],
   "source": [
    "def modify2(li):\n",
    "\tli += [100, 200]\n",
    "\n",
    "list = [1, 2, 3, 4, 5]\n",
    "print(list)\n",
    "modify2(list)\n",
    "\n",
    "print(list)"
   ]
  },
  {
   "cell_type": "code",
   "execution_count": null,
   "metadata": {},
   "outputs": [],
   "source": [
    "s = \"apple\"\n",
    "def sub():\n",
    "\tglobal s\n",
    "\tprint(s)\n",
    "\ts = \"banana\"\n",
    "\tprint(id(s))\n",
    "\tprint(s)\n",
    "\n",
    "sub()\n",
    "print()\n",
    "print(s)\n",
    "print(id(s))\n"
   ]
  },
  {
   "cell_type": "code",
   "execution_count": null,
   "metadata": {},
   "outputs": [],
   "source": [
    "def sub(x, y):\n",
    "\tglobal a\n",
    "\ta = 7\n",
    "\tx, y = y, x\n",
    "\tb = 3\n",
    "\tprint(a, b, x, y)\n",
    "\n",
    "a,b,x,y = 1, 2, 3, 4\n",
    "sub(x, y)\n",
    "print(a, b, x, y)"
   ]
  },
  {
   "cell_type": "code",
   "execution_count": null,
   "metadata": {},
   "outputs": [],
   "source": [
    "def sum(n):\n",
    "\ts = 0\n",
    "\tfor i in range(n):\n",
    "\t\ts += i\n",
    "\treturn (i, s)\n",
    "\n",
    "a, b = sum(10)\n",
    "print(a, b)"
   ]
  },
  {
   "cell_type": "code",
   "execution_count": null,
   "metadata": {},
   "outputs": [],
   "source": [
    "#클래스 선언\n",
    "class Human:\n",
    "\tdef __init__(self, name, hobby):\n",
    "\t\tself.name=name\n",
    "\t\tself.hobby=hobby\n",
    "\t\tprint(f\"{self.name}객체가 생성되었습니다.\")\n",
    "\n",
    "\tdef intro(self):\n",
    "\t\tprint(\"my name is %s, I like %s\" %(self.name, self.hobby))\n",
    "\t\n",
    "\tdef __del__(self):\n",
    "\t\tprint(\"객체 삭제\")\n",
    "\n",
    "#휴먼 인스턴스 생성(객체 생성)\n",
    "person01 = Human(\"장희찬\", \"책\")\n",
    "\n",
    "# 메소드 호출\n",
    "person01.intro()\n",
    "\n",
    "#인스턴스 생성\n",
    "person02 = Human(\"조이\", \"그림그리기\")\n",
    "\n",
    "#메소드 호출\n",
    "person02.intro()"
   ]
  },
  {
   "cell_type": "code",
   "execution_count": null,
   "metadata": {},
   "outputs": [],
   "source": [
    "class Parent:\n",
    "\tdef __init__(self, name):\n",
    "\t\tself.name = name\n",
    "\n",
    "class child(Parent):\n",
    "\tpass\n",
    "\n",
    "c = child(\"김가\")\n",
    "print(c.name)"
   ]
  },
  {
   "cell_type": "code",
   "execution_count": null,
   "metadata": {},
   "outputs": [],
   "source": [
    "class car:\n",
    "\tdef __init__(self, m, c):\n",
    "\t\tself.model = m\n",
    "\t\tself.color = c\n",
    "\n",
    "\tdef speed(self, v):\n",
    "\t\tprint(f\"{self.model} 달린다. {v}km\")\n",
    "\t\n",
    "class suv(car):\n",
    "\tdef __init__(self, m, c, d):\n",
    "\t\tsuper().__init__(m, c)\n",
    "\t\tself.dor=d\n",
    "\n",
    "car1 = car('아바떼', '검정')\n",
    "car1.speed(111)\n",
    "\n",
    "car2 = car('소렌토', '빨강')\n",
    "car2.speed(120)\n",
    "\n",
    "suv1 = suv(\"산타페\", \"하양\", \"5\")\n",
    "suv1.speed(100)"
   ]
  },
  {
   "cell_type": "code",
   "execution_count": null,
   "metadata": {},
   "outputs": [],
   "source": [
    "import my_calc_0108 as m\n",
    "\n",
    "print(m.add_num(3, 4))\n"
   ]
  },
  {
   "cell_type": "code",
   "execution_count": null,
   "metadata": {},
   "outputs": [],
   "source": [
    "from my_calc_0108 import *\n",
    "\n",
    "print(add_num(3, 4))\n"
   ]
  },
  {
   "cell_type": "markdown",
   "metadata": {},
   "source": [
    "Tkinter GUI만들기\n",
    "\n",
    "파이썬에서 그래픽 기능을 제공해주는 GUI 모듈\n",
    "\n",
    "파이썬에서 제공하는 표준모듈\n",
    "\n",
    "TK()의 인스턴스를 만들고 여러가지 위젯등을 추가한 후 mainloop() 키워드로 실행"
   ]
  },
  {
   "cell_type": "code",
   "execution_count": null,
   "metadata": {},
   "outputs": [],
   "source": [
    "from tkinter import *\n",
    "\n",
    "main = Tk()\n",
    "main.title(\"TK\")\n",
    "main.geometry(\"900x600\")\n",
    "\n",
    "img = PhotoImage(file='python.png')\n",
    "\n",
    "lb = Label(main)\n",
    "lb['text'] = \"안녕하세요\"\n",
    "lb['font'] = \"Arial 20\"\n",
    "lb.pack()\n",
    "\n",
    "ok = Button(main, image=img)\n",
    "ok['text'] = \"확인\"\n",
    "ok['foreground'] = \"RED\"\n",
    "ok.pack()\n",
    "\n",
    "cancel_btn = Button(main, text=\"취소\", foreground=\"Green\")\n",
    "cancel_btn.pack()\n",
    "\n",
    "main.mainloop()"
   ]
  },
  {
   "cell_type": "code",
   "execution_count": null,
   "metadata": {},
   "outputs": [],
   "source": [
    "from tkinter import *\n",
    "\n",
    "def click():\n",
    "\tprint(\"클릭\")\n",
    "\n",
    "def clk():\n",
    "\tbtn_clk.config(text=\"성공\")\n",
    "main = Tk()\n",
    "main.title(\"TK\")\n",
    "main.geometry(\"450x300\")\n",
    "\n",
    "img = PhotoImage(file='python.png')\n",
    "\n",
    "lb = Label(main)\n",
    "lb['text'] = \"안녕하세요\"\n",
    "lb['font'] = \"Arial 20\"\n",
    "lb.pack()\n",
    "\n",
    "btn_clk = Button(main, text = \"클릭\", command=clk)\n",
    "btn_clk.pack()\n",
    "\n",
    "btn_can = Button(main, text=\"취소\", foreground=\"Green\")\n",
    "btn_can.pack()\n",
    "\n",
    "main.mainloop()"
   ]
  },
  {
   "cell_type": "code",
   "execution_count": null,
   "metadata": {},
   "outputs": [],
   "source": [
    "from tkinter import *\n",
    "\n",
    "main = Tk()\n",
    "main.title(\"계산기\")\n",
    "main.geometry(\"900x600\")\n",
    "\n",
    "def ft_sum():\n",
    "\tnum1=int(txt1.get())\n",
    "\tnum2=int(txt2.get())\n",
    "\tlb1.config(text=str(num1+num2))\n",
    "\t\n",
    "def ft_sub():\n",
    "\tnum1=int(txt1.get())\n",
    "\tnum2=int(txt2.get())\n",
    "\tlb1.config(text=num1-num2)\n",
    "\n",
    "def ft_mul():\n",
    "\tnum1=int(txt1.get())\n",
    "\tnum2=int(txt2.get())\n",
    "\tlb1.config(text=num1*num2)\n",
    "\n",
    "def ft_div():\n",
    "\tnum1=int(txt1.get())\n",
    "\tnum2=int(txt2.get())\n",
    "\tlb1.config(text=num1//num2)\n",
    "\n",
    "txt1 = Entry(main)\n",
    "txt1.pack()\n",
    "\n",
    "txt2 = Entry(main)\n",
    "txt2.pack()\n",
    "\n",
    "but_sum = Button(main, text =\"+\", command = ft_sum)\n",
    "but_sum.pack()\n",
    "\n",
    "but_sub = Button(main, text =\"-\", command = ft_sub)\n",
    "but_sub.pack()\n",
    "\n",
    "but_mul = Button(main, text =\"*\", command = ft_mul)\n",
    "but_mul.pack()\n",
    "\n",
    "but_div = Button(main, text =\"/\", command = ft_div)\n",
    "but_div.pack()\n",
    "\n",
    "lb1 = Label(main, text=\" \")\n",
    "lb1.pack()\n",
    "\n",
    "main.mainloop()"
   ]
  },
  {
   "cell_type": "markdown",
   "metadata": {},
   "source": [
    "튜플 변수명 = (데이터, 테이터, 데이터, ..)\n",
    "튜플은 소괄호()생략가능\n",
    "튜플은 리턴값으로 자주 사용\n",
    "요소 사이에 ,을 넣는다.\n",
    "\n",
    "읽기 전용자료로 사용\n",
    "수정이 불가능\n",
    "\n",
    "메모리 사용이 적다.\n",
    "튜플을 딕셔너리 키로 사용가능\n",
    "리스트보다 간단한 구조라서 능이 빠르다."
   ]
  },
  {
   "cell_type": "code",
   "execution_count": null,
   "metadata": {},
   "outputs": [],
   "source": [
    "t1 = (10, 20, 30)\n",
    "t2 = 10, 20, 30\n",
    "print(t1, t2)\n",
    "\n",
    "t3 = (10)\n",
    "t4 = (10,)\n",
    "print(type(t3), type(t4))"
   ]
  },
  {
   "cell_type": "code",
   "execution_count": null,
   "metadata": {},
   "outputs": [],
   "source": [
    "print(id(t1))\n",
    "t1 = t1 + t2\n",
    "print(t1)\n",
    "print(id(t1))"
   ]
  },
  {
   "cell_type": "code",
   "execution_count": null,
   "metadata": {},
   "outputs": [],
   "source": [
    "t1 = (10, 20, 30, 40)\n",
    "\n",
    "print(t1[0])\n",
    "print(t1[1:])\n"
   ]
  },
  {
   "cell_type": "markdown",
   "metadata": {},
   "source": [
    "딕셔너리(dict)\n",
    "키(key)와 값(val)이 쌍을 이루어 하나의 항목으로 저장된다.\n",
    "인덱스가 아닌 키로 자료에 접근한다.\n",
    "순서가 없다.\n",
    "\n",
    "{} -> 순서가 의가 없다.\n",
    "\n",
    "val은 중복가능\n",
    "\n",
    "key은 중복가능이긴하지만(나중에 에러가 뜰수도 있으니 하지말자)"
   ]
  },
  {
   "cell_type": "code",
   "execution_count": null,
   "metadata": {},
   "outputs": [],
   "source": [
    "dict_name = {\"1\":3, \"2\":2, \"3\":3}\n",
    "\n",
    "print(dict_name['2'])\n",
    "print(dict_name.get('2'))"
   ]
  },
  {
   "cell_type": "code",
   "execution_count": null,
   "metadata": {},
   "outputs": [],
   "source": [
    "#주소록 만들기\n",
    "#항목: 이름, 전화번호\n",
    "# 1.추가 2.수정 3.삭제 4.목록 5.종료\n",
    "#dict구조 -> key로 값찾기\n",
    "#이름 = 'key' 전화번호 = 'val'\n",
    "\n",
    "pb ={}\n",
    "\n",
    "def pb_add():\n",
    "\tname = input(\"이름 : \")\n",
    "\tph = input(\"전화번호\")\n",
    "\tpb[name] = ph\n",
    "\tprint(f\"{name}이 추가되었습니다.\")\n",
    "\n",
    "def pb_ch():\n",
    "\tname = input(\"이름 : \")\n",
    "\tph = input(\"수정할 전화번호\")\n",
    "\tpb[name] = ph\n",
    "\tprint(f\"{name}이 수정되었습니다.\")\n",
    "\n",
    "def pb_del():\n",
    "\tname = input(\"이름\")\n",
    "\tdel(pb[name])\n",
    "\tprint(f\"{name}이 삭제되었습니다.\")\n",
    "\n",
    "def pb_list():\n",
    "\tfor i, x in pb.items():\n",
    "\t\tprint(i, x)\n",
    "\n",
    "def pb_end():\n",
    "\tprint(\"종료\")\n",
    "\tquit()\n",
    "\n",
    "def menu():\n",
    "\tprint(\"*** 전화번호부 ***\")\n",
    "\tprint(\"1. 추가하기\")\n",
    "\tprint(\"2. 수정하기\")\n",
    "\tprint(\"3. 삭제하기\")\n",
    "\tprint(\"4. 목록하기\")\n",
    "\tprint(\"5. 종료하기\")\n",
    "\ti = int(input(\" \"))\n",
    "\n",
    "\tif i == 1:\n",
    "\t\tpb_add()\n",
    "\telif i == 2:\n",
    "\t\tpb_ch()\n",
    "\telif i == 3:\n",
    "\t\tpb_del()\n",
    "\telif i == 4:\n",
    "\t\tpb_list()\n",
    "\telif i == 5:\n",
    "\t\tpb_end()\n"
   ]
  }
 ],
 "metadata": {
  "kernelspec": {
   "display_name": "Python 3",
   "language": "python",
   "name": "python3"
  },
  "language_info": {
   "codemirror_mode": {
    "name": "ipython",
    "version": 3
   },
   "file_extension": ".py",
   "mimetype": "text/x-python",
   "name": "python",
   "nbconvert_exporter": "python",
   "pygments_lexer": "ipython3",
   "version": "3.12.1"
  }
 },
 "nbformat": 4,
 "nbformat_minor": 2
}
