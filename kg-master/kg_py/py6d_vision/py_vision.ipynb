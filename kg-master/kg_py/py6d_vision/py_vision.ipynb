{
 "cells": [
  {
   "cell_type": "code",
   "execution_count": null,
   "metadata": {},
   "outputs": [],
   "source": [
    "#opencv 설치확인\n",
    "\n",
    "import cv2\n",
    "\n",
    "print(cv2.__version__)"
   ]
  },
  {
   "cell_type": "code",
   "execution_count": null,
   "metadata": {},
   "outputs": [],
   "source": [
    "import cv2\n",
    "\n",
    "img = cv2.imread(\"./i_data/4.2.03.png\", cv2.IMREAD_UNCHANGED)\n",
    "#IMREAD_UNCHANGED : 이미지를 그대로 읽어오며, 알파채널이 있다면 그것을 포함\n",
    "\n",
    "cv2.imshow('Image', img) #'Image'란 창 생성\n",
    "\n",
    "cv2.waitKey(0) # 키보드 이벤트 대기 -> 아무 키나 누를때까지(무한정 대기)\n",
    "cv2.destroyAllWindows() # 창끄기"
   ]
  },
  {
   "cell_type": "code",
   "execution_count": null,
   "metadata": {},
   "outputs": [],
   "source": [
    "import cv2\n",
    "\n",
    "#img = cv2.imread(\"./i_data/4.2.03.png\",cv2.IMREAD_GRAYSCALE)\n",
    "#IMREAD_GARYSCALE : 이미지를 회색으로 출력\n",
    "\n",
    "cv2.imshow('Image', img) #'Image'란 창 생성\n",
    "\n",
    "cv2.waitKey(0) # 키보드 이벤트 대기 -> 아무 키나 누를때까지(무한정 대기)\n",
    "cv2.destroyAllWindows()\n"
   ]
  },
  {
   "cell_type": "code",
   "execution_count": null,
   "metadata": {},
   "outputs": [],
   "source": [
    "print(img.shape)\n",
    "print(img)"
   ]
  },
  {
   "cell_type": "code",
   "execution_count": null,
   "metadata": {},
   "outputs": [],
   "source": [
    "import cv2\n",
    "\n",
    "#img = cv2.imread(\"./i_data/2.2.07.tiff\", cv2.IMREAD_UNCHANGED)\n",
    "img = cv2.imread(\"./i_data/2.2.07.tiff\", cv2.IMREAD_GRAYSCALE)\n",
    "cv2.imshow('test', img)\n",
    "\n",
    "cv2.waitKey(0)\n",
    "cv2.destroyAllWindows()\n",
    "\n",
    "print(img.shape)\n",
    "print(img)"
   ]
  },
  {
   "cell_type": "code",
   "execution_count": null,
   "metadata": {},
   "outputs": [],
   "source": [
    "import matplotlib.pyplot as plt\n",
    "\n",
    "x = img[:, :]\n",
    "y = img[:, 1]\n",
    "\n",
    "\n",
    "plt.plot(x, y, '*')\n",
    "plt.show()\n"
   ]
  },
  {
   "cell_type": "code",
   "execution_count": null,
   "metadata": {},
   "outputs": [],
   "source": [
    "import numpy as np \n",
    "\n",
    "a = np.zeros((2, 5), np.uint8) # 0으로 채움\n",
    "b = np.ones((3,1 ), np.int8) # 1로 채움\n",
    "c = np.empty((1, 5), np.float32) #empty : 쓰래기값으로 채움\n",
    "d = np.full(5, 4, np.float32) # 15로 채움\n",
    "e = np.full((5,5), 2, np.float32)\n",
    "\n",
    "print(c.shape, d.shape)\n",
    "print(a)\n",
    "print(b)\n",
    "print(c)\n",
    "print(d)\n",
    "print(e)"
   ]
  },
  {
   "cell_type": "code",
   "execution_count": null,
   "metadata": {},
   "outputs": [],
   "source": [
    "import cv2\n",
    "\n",
    "img_u = cv2.imread(\"./i_data/4.2.03.png\", cv2.IMREAD_UNCHANGED)\n",
    "#img_g = cv2.imread(\"./i_data/4.2.03.png\", cv2.IMREAD_GRAYSCALE)\n",
    "\n",
    "#cv2.imshow(\"mk_G\", img_g)\n",
    "cv2.imshow(\"mk_U\", img_u)\n",
    "\n",
    "key = cv2.waitKey(0)\n",
    "\n",
    "if key == 27:\n",
    "\tcv2.imwrite(\"./i_data/test.png\", img_u[cv2.IMREAD_UNCHANGED])\n",
    "cv2.destroyAllWindows()\n",
    "\n",
    "#print(img_g)\n",
    "#print(img_g.shape)\n",
    "#print(img_u)\n",
    "#print(img_u.shape)\n"
   ]
  },
  {
   "cell_type": "code",
   "execution_count": null,
   "metadata": {},
   "outputs": [],
   "source": [
    "import cv2\n",
    "\n",
    "img_u = cv2.imread(\"./i_data/4.2.03.png\", cv2.IMREAD_COLOR)\n",
    "\n",
    "cv2.imshow(\"mk_U\", img_u)\n",
    "\n",
    "key = cv2.waitKey(0)\n",
    "\n",
    "if key == 27:\n",
    "\tcv2.imwrite(\"./i_data/test.png\", img_u)\n",
    "\n",
    "cv2.destroyAllWindows()\n"
   ]
  },
  {
   "cell_type": "code",
   "execution_count": null,
   "metadata": {},
   "outputs": [],
   "source": [
    "import cv2\n",
    "import matplotlib.pylab as plt\n",
    "\n",
    "plt.figure(figsize=(3,4))\n",
    "\n",
    "img = cv2.imread('./i_data/openCV_logo.png', cv2.IMREAD_UNCHANGED)\n",
    "plt.xticks([])\n",
    "plt.yticks([])\n",
    "plt.imshow(img)\n",
    "plt.show()"
   ]
  },
  {
   "cell_type": "code",
   "execution_count": null,
   "metadata": {},
   "outputs": [],
   "source": [
    "import cv2\n",
    "import matplotlib.pylab as plt\n",
    "import numpy as np\n",
    "\n",
    "img = cv2.imread('./i_data/openCV_logo.png', cv2.IMREAD_UNCHANGED)\n",
    "\n",
    "hi, wi, depth = img.shape\n",
    "print(hi, wi)\n",
    "plt.figure(figsize=(5, 5))\n",
    "\n",
    "y = np.arange(0, hi, 100) # 틱의 간격\n",
    "\n",
    "print(y)\n",
    "y_label = hi - np.arange(0, hi, 100) #틱의 칸\n",
    "print(y_label)\n",
    "\n",
    "#yticks1 = np.arange(hi, -1, -100)\n",
    "#ytickss = hi - np.arange(0, hi, 100)\n",
    "plt.yticks(y_label, y) \n",
    "plt.yticks()\n",
    "# plt.yticks(yticks1, ytickss)\n",
    "plt.imshow(img)\n",
    "plt.show()"
   ]
  },
  {
   "cell_type": "code",
   "execution_count": null,
   "metadata": {},
   "outputs": [],
   "source": [
    "import cv2\n",
    "from matplotlib import pyplot as plt\n",
    "\n",
    "img2 = cv2.imread(\"./i_data/4.2.03.png\", cv2.IMREAD_GRAYSCALE)\n",
    "#img2 = cv2.cvtColor(img2, cv2.COLOR_BGR2RGB) # CV는 BGR로 읽고 matplotlib는 rgb로 읽어서 함수로 바꿔줘야댐\n",
    "\n",
    "plt.imshow(img2, cmap='cool')\n",
    "plt.xticks([])\n",
    "plt.yticks([])\n",
    "print(img2.shape)\n",
    "plt.show()\n"
   ]
  },
  {
   "cell_type": "code",
   "execution_count": null,
   "metadata": {},
   "outputs": [],
   "source": [
    "import cv2\n",
    "import matplotlib.pyplot as plt\n",
    "\n",
    "plt.figure(figsize=(3,4))\n",
    "\n",
    "img = cv2.imread(\"./i_data/openCV_logo.png\", cv2.IMREAD_UNCHANGED)\n",
    "img = cv2.cvtColor(img, cv2.COLOR_BGR2RGB)\n",
    "cv2.imshow(\"test\", img)\n",
    "\n",
    "plt.imshow(img)\n",
    "plt.show()\n",
    "cv2.waitKey(0)\n",
    "cv2.destroyAllWindows()"
   ]
  },
  {
   "cell_type": "code",
   "execution_count": null,
   "metadata": {},
   "outputs": [],
   "source": [
    "import cv2\n",
    "\n",
    "cap = cv2.VideoCapture(0) # 생성자\n",
    "while cap.isOpened():\n",
    "\tret,img = cap.read() # ret 은 bool값 (이미지를 제대로 읽는지 확인), img로 찍은 사진 반환\n",
    "\tcv2.imshow('my_win', img)\n",
    "\tprint(img)\n",
    "\tif cv2.waitKey(1) & 0xFF == ord('q'): # 0xFF(waitkey의 값을 1바이트로 바꿔줘서 ord('q')와 값이 같은지 확인해줌) -> & 연산자 우선\n",
    "\t\tbreak\n",
    "cap.release() # 소멸자 .release\n",
    "cv2.destroyAllWindows()"
   ]
  },
  {
   "cell_type": "code",
   "execution_count": null,
   "metadata": {},
   "outputs": [],
   "source": [
    "###비디오 저장####\n",
    "\n",
    "import cv2\n",
    "\n",
    "cap = cv2.VideoCapture(0) # 생성자\n",
    "cap.set(cv2.CAP_PROP_FRAME_HEIGHT, 320)\n",
    "cap.set(cv2.CAP_PROP_FRAME_WIDTH, 240)\n",
    "\n",
    "fourcc = cv2.VideoWriter_fourcc(*'DIVX')\n",
    "writer = cv2.VideoWriter('video.avi', fourcc, 25.0, (240, 320))\n",
    "\n",
    "while cap.isOpened():\n",
    "\tret,img = cap.read() #ret 은 bool값 (이미지를 제대로 읽는지 확인), img로 찍은 사진 반환\n",
    "\tcv2.imshow('my_win', img)\n",
    "\twriter.write(img)\n",
    "\tif cv2.waitKey(1) & 0xFF == ord('q'): # 0xFF(waitkey의 값을 1바이트로 바꿔줘서 ord('q')와 값이 같은지 확인해줌) -> & 연산자 우선\n",
    "\t\tbreak\n",
    "cap.release() # 소멸자 .release\n",
    "cv2.destroyAllWindows()"
   ]
  },
  {
   "cell_type": "code",
   "execution_count": null,
   "metadata": {},
   "outputs": [],
   "source": [
    "import cv2\n",
    "\n",
    "cap = cv2.VideoCapture('./video.avi')\n",
    "\n",
    "while cap.isOpened():\n",
    "\tret, frame = cap.read()\n",
    "\tif not ret:\n",
    "\t\tprint('no frame')\n",
    "\t\tbreak\n",
    "\n",
    "\tcv2.imshow('vdieo',frame)\n",
    "\n",
    "\tif cv2.waitKey(40) == ord('q'):\n",
    "\t\tprint('종료합니다.')\n",
    "\t\tbreak\n",
    "\n",
    "cap.release()\n",
    "cv2.destroyAllWindows()"
   ]
  },
  {
   "cell_type": "code",
   "execution_count": null,
   "metadata": {},
   "outputs": [],
   "source": [
    "import numpy as np \n",
    "import cv2\n",
    "\n",
    "img = np.zeros((512, 512, 3), np.uint8) # Fix: Corrected the typo in the numpy data type\n",
    "img = cv2.line(img, (0, 0), (511, 511), (255, 0, 0), 5)\n",
    "\n",
    "cv2.imshow('imgae', img)\n",
    "cv2.waitKey(0)\n",
    "cv2.destroyAllWindows()"
   ]
  },
  {
   "cell_type": "code",
   "execution_count": null,
   "metadata": {},
   "outputs": [],
   "source": [
    "import numpy as np\n",
    "import cv2\n",
    "\n",
    "img = np.zeros((512, 512, 3), np.uint8)\n",
    "img = cv2.rectangle(img, (100, 100), (400, 400), (0, 255, 255), 3)\n",
    "\n",
    "cv2.imshow('tst', img)\n",
    "cv2.waitKey(0)\n",
    "cv2.destroyAllWindows()"
   ]
  },
  {
   "cell_type": "code",
   "execution_count": null,
   "metadata": {},
   "outputs": [],
   "source": [
    "import numpy as np\n",
    "import cv2\n",
    "\n",
    "img = np.zeros((512, 512, 3), np.uint8)\n",
    "img = cv2.line(img, (0, 0), (512, 512), (255, 0, 0), 5)\n",
    "img = cv2.rectangle(img, (100, 100), (400, 400), (0,0,255), 3)\n",
    "img = cv2.circle(img, (255, 255), 50, (255, 255, 0), -1) # 선 두깨에 -1 이면 채우기\n",
    "\n",
    "cv2.imshow('tst', img)\n",
    "cv2.waitKey(0)\n",
    "cv2.destroyAllWindows()\n"
   ]
  },
  {
   "cell_type": "code",
   "execution_count": null,
   "metadata": {},
   "outputs": [],
   "source": [
    "import numpy as np\n",
    "import cv2\n",
    "\n",
    "pts1 = np.array([[50, 50], [200, 50], [200, 200], [100, 150]], np.int32)\n",
    "pts1 = pts1.reshape((-1, 1, 2))\n",
    "\n",
    "\n",
    "pts3 = np.array([[150, 100], [200, 130], [250, 100], [100, 270]], np.int32)\n",
    "pts3 = pts3.reshape((-1, 1, 2))\n",
    "\n",
    "pts2 = np.array([[550, 10], [100, 30], [450, 200], [100, 70]], np.int32)\n",
    "pts2 = pts2.reshape((-1, 1, 2))\n",
    "\n",
    "\n",
    "cv2.polylines(img, [pts1, pts3], True, (0, 255, 0), 1)\n",
    "cv2.polylines(img, [pts2], True, (255, 0, 0 ), 1)\n",
    "\n",
    "cv2.imshow('tst', img)\n",
    "cv2.waitKey(0)\n",
    "cv2.destroyAllWindows()"
   ]
  },
  {
   "cell_type": "code",
   "execution_count": null,
   "metadata": {},
   "outputs": [],
   "source": [
    "import cv2\n",
    "\n",
    "img = cv2.imread('./i_data/4.2.03.png',cv2.IMREAD_COLOR)\n",
    "#img = np.zeros((512, 512, 3), np.uint8)\n",
    "img = cv2.circle(img, (0, 0), 50, (0, 0 ,255), -1)\n",
    "\n",
    "cv2.putText(img, 'OpenCV', (0,100), cv2.FONT_HERSHEY_DUPLEX, 1, (255, 255, 255), 2)\n",
    "cv2.imshow('img', img)\n",
    "\n",
    "cv2.waitKey(0)\n",
    "cv2.destroyAllWindows()"
   ]
  },
  {
   "cell_type": "code",
   "execution_count": null,
   "metadata": {},
   "outputs": [],
   "source": [
    "import cv2\n",
    "import numpy as np\n",
    "\n",
    "# cv2.setMouseCallback(windowname, callback, param=NONE)\n",
    "# call back 에 (event x, y, flags)가 들어감\n",
    "\n",
    "def draw_circle(event, x, y, flags, param):\n",
    "\tif event == cv2.EVENT_LBUTTONDBLCLK:\n",
    "\t\tcv2.circle(img, (x,y), 50, (5, 0, 255), -1)\n",
    "\tif event == cv2.EVENT_RBUTTONDBLCLK:\n",
    "\t\tcv2.circle(img, (x,y), 50, (225, 0, 255), -1)\n",
    "\n",
    "img = np.zeros((512,512,3), np.uint8)\n",
    "cv2.namedWindow('image')\n",
    "cv2.setMouseCallback('image', draw_circle)\n",
    "\n",
    "while(1):\n",
    "\tcv2.imshow('image', img)\n",
    "\tif cv2.waitKey(20) & 0xFF == 27:\n",
    "\t\tbreak\n",
    "\n",
    "cv2.destroyAllWindows()"
   ]
  },
  {
   "cell_type": "code",
   "execution_count": null,
   "metadata": {},
   "outputs": [],
   "source": [
    "import cv2\n",
    "import numpy as np\n",
    "\n",
    "drawing = False\n",
    "mode = True\n",
    "\n",
    "ix, iy = -1, -1\n",
    "\n",
    "def draw_circle(event, x, y, flags, param):\n",
    "\tglobal ix, iy, drawing, mode\n",
    "\t\n",
    "\tif event == cv2.EVENT_LBUTTONDOWN:\n",
    "\t\tdrawing = True\n",
    "\t\tix, iy = x, y\n",
    "\telif event == cv2.EVENT_MOUSEMOVE:\n",
    "\t\tif drawing == True:\n",
    "\t\t\tif mode == True:\n",
    "\t\t\t\tcv2.rectangle(img, (ix, iy), (x,y), (255,0,0), -1)\n",
    "\t\t\telse:\n",
    "\t\t\t\tcv2.circle(img, (x,y), 5, (0, 255, 0), -1)\n",
    "\telif event == cv2.EVENT_LBUTTONUP:\n",
    "\t\tdrawing = False\n",
    "\t\tif mode == True:\n",
    "\t\t\tcv2.rectangle(img, (ix,iy), (x,y), (255,0, 0), -1)\n",
    "\t\telse:\n",
    "\t\t\tcv2.circle(img, (x,y), 5,(0,255,0), -1)\n",
    "\n",
    "img = np.zeros((512, 512, 3), np.uint8)\n",
    "cv2.namedWindow('image')\n",
    "cv2.setMouseCallback('image', draw_circle)\n",
    "\n",
    "while True:\n",
    "\tcv2.imshow('image', img)\n",
    "\t\n",
    "\tk = cv2.waitKey(1) & 0xFF\n",
    "\n",
    "\tif k == ord('m'):\n",
    "\t\tmode = not mode\n",
    "\telif k == 27:\n",
    "\t\tbreak\n",
    "\n",
    "cv2.destroyAllWindows()"
   ]
  },
  {
   "cell_type": "code",
   "execution_count": 27,
   "metadata": {},
   "outputs": [],
   "source": [
    "import cv2\n",
    "import numpy as np\n",
    "\n",
    "def nothing(x):\n",
    "    pass\n",
    "\n",
    "img = np.zeros((300,512,3), np.uint8)\n",
    "cv2.namedWindow('image')\n",
    "\n",
    "# trackbar를 생성하여 named window에 등록\n",
    "cv2.createTrackbar('R', 'image', 0, 255, nothing)\n",
    "cv2.createTrackbar('G', 'image', 0, 255, nothing)\n",
    "cv2.createTrackbar('B', 'image', 0, 255, nothing)\n",
    "\n",
    "switch = '0:OFF\\n1:On'\n",
    "cv2.createTrackbar(switch, 'image', 1, 1, nothing)\n",
    "\n",
    "while(1):\n",
    "    cv2.imshow('image', img)\n",
    "\n",
    "    if cv2.waitKey(1) & 0xFF == 27:\n",
    "        break\n",
    "\n",
    "    r = cv2.getTrackbarPos('R','image')\n",
    "    g = cv2.getTrackbarPos('G', 'image')\n",
    "    b = cv2.getTrackbarPos('B', 'image')\n",
    "    s = cv2.getTrackbarPos(switch, 'image')\n",
    "\n",
    "    if s == 0:\n",
    "        img[:] = 0 # 모든 행/열 좌표 값을 0으로 변경. 검은색\n",
    "    else:\n",
    "        img[:] = [b,g,r] # 모든 행/열 좌표값을 [b,g,r]로 변경\n",
    "\n",
    "cv2.destroyAllWindows()"
   ]
  },
  {
   "cell_type": "code",
   "execution_count": null,
   "metadata": {},
   "outputs": [
    {
     "name": "stdout",
     "output_type": "stream",
     "text": [
      "[70 84 68]\n"
     ]
    }
   ],
   "source": [
    "#픽셀의 속석\n",
    "\n",
    "import cv2\n",
    "import numpy as np\n",
    "\n",
    "img =cv2.imread('./i_data/4.2.03.png')\n",
    "\n",
    "px = img[100, 150]\n",
    "print(px) \n",
    "# [B G R]로 표현"
   ]
  },
  {
   "cell_type": "code",
   "execution_count": 9,
   "metadata": {},
   "outputs": [],
   "source": [
    "#이미지 연산: 더하기\n",
    "\n",
    "import cv2\n",
    "import numpy as np\n",
    "\n",
    "img1 = cv2.imread('./i_data/flower1.jpg')\n",
    "img2 = cv2.imread('./i_data/flower2.jpg')\n",
    "\n",
    "while True:\n",
    "    img3 = cv2.addWeighted(img1, 0.5,img2,0.5, 0)\n",
    "    cv2.imshow('screen',img3)\n",
    "    if cv2.waitKey(1) & 0xFF == 27:\n",
    "           cv2.imwrite(\"test3.png\", img3)\n",
    "           break\n",
    "    \n",
    "cv2.destroyAllWindows()"
   ]
  },
  {
   "cell_type": "code",
   "execution_count": 11,
   "metadata": {},
   "outputs": [
    {
     "name": "stdout",
     "output_type": "stream",
     "text": [
      "(300, 400, 3)\n",
      "(200, 200, 3)\n",
      "(500, 200, 3)\n"
     ]
    }
   ],
   "source": [
    "import cv2\n",
    "import numpy as np\n",
    "\n",
    "\n",
    "img=cv2.imread('./i_data/flower1.jpg',cv2.IMREAD_COLOR)\n",
    "print(img.shape) #height,width,channel\n",
    "\n",
    "resized_img_1= cv2.resize(img, dsize=(200,200),interpolation=cv2.INTER_LINEAR)\n",
    "print(resized_img_1.shape)\n",
    "resized_img_2= cv2.resize(img, dsize=(200,500),interpolation=cv2.INTER_LINEAR)\n",
    "print(resized_img_2.shape)\n",
    "\n",
    "\n",
    "#시각화\n",
    "\n",
    "cv2.imshow(\"resized_img_1\", resized_img_1)\n",
    "cv2.imshow(\"resized_img_2\", resized_img_2)\n",
    "\n",
    "cv2.imwrite(\"test1.jpg\", resized_img_1)\n",
    "cv2.imwrite(\"test2.jpg\", resized_img_2)\n",
    "\n",
    "cv2.waitKey(0)\n",
    "cv2.destroyAllWindows()"
   ]
  }
 ],
 "metadata": {
  "kernelspec": {
   "display_name": "Python 3",
   "language": "python",
   "name": "python3"
  },
  "language_info": {
   "codemirror_mode": {
    "name": "ipython",
    "version": 3
   },
   "file_extension": ".py",
   "mimetype": "text/x-python",
   "name": "python",
   "nbconvert_exporter": "python",
   "pygments_lexer": "ipython3",
   "version": "3.12.1"
  }
 },
 "nbformat": 4,
 "nbformat_minor": 2
}
