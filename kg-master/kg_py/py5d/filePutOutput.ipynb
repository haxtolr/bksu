{
 "cells": [
  {
   "cell_type": "code",
   "execution_count": null,
   "metadata": {},
   "outputs": [],
   "source": [
    "파일 입출력"
   ]
  },
  {
   "cell_type": "markdown",
   "metadata": {},
   "source": [
    "열기\n",
    "\n",
    "open()\n",
    "\n",
    "f = open(\"파일명\", 'w')\n",
    "f.write(\"데이터\")\n",
    "f.close\n",
    "\n",
    "# 바이너리 파일 열기\n",
    "f = open(\"파일명\", 'rb')\n",
    "data = f.read()\n",
    "print(data)\n",
    "f.close"
   ]
  },
  {
   "cell_type": "markdown",
   "metadata": {},
   "source": [
    "읽기\n",
    "\n",
    "read()\n",
    "read(n)\n",
    "\n",
    "readline()\n",
    "readlines()\n",
    "\n",
    "f = open(\"파일명\", 'r')\n",
    "print(f.read())\n",
    "f.close\n",
    "\n"
   ]
  },
  {
   "cell_type": "markdown",
   "metadata": {},
   "source": [
    "쓰기"
   ]
  },
  {
   "cell_type": "code",
   "execution_count": null,
   "metadata": {},
   "outputs": [],
   "source": [
    "# 파일의 내용 읽기\n",
    "\n",
    "# f = open('./1_9______/31_score_data.txt', 'r')\n",
    "# f = open('./1_9______/31_score_data1.txt', 'r')\n",
    "f = open('./1_9______/31_score_data2.txt', 'r')\n",
    "score = []\n",
    "\n",
    "score = f.read()\n",
    "# score = f.read().split()\n",
    "print(score)\n",
    "f.close()"
   ]
  },
  {
   "cell_type": "code",
   "execution_count": null,
   "metadata": {},
   "outputs": [],
   "source": [
    "# 파일의 내용 읽기\n",
    "\n",
    "f = open('./1_9______/31_score_data.txt', 'r')\n",
    "# f = open('./1_9______/31_score_data1.txt', 'r')\n",
    "# f = open('./1_9______/31_score_data2.txt', 'r')\n",
    "score = []\n",
    "\n",
    "for line in f :\n",
    "    score.append(line)\n",
    "\n",
    "print(score)\n",
    "f.close()"
   ]
  },
  {
   "cell_type": "code",
   "execution_count": null,
   "metadata": {},
   "outputs": [],
   "source": [
    "# 파일의 내용 읽기\n",
    "\n",
    "# './1_9______/31_score_data.txt' 파일을 읽기 모드로 열고, 파일 내용을 읽어서 출력합니다.\n",
    "with open('./1_9______/31_score_data.txt', 'r') as f :\n",
    "\tprint(f.read())\n",
    "\n",
    "# './1_9______/happy_day.txt' 파일을 읽기 모드로 열고, 파일 내용을 읽어서 출력합니다.\n",
    "with open('./1_9______/happy_day.txt', 'r') as f :\n",
    "\tprint(f.read())\n"
   ]
  },
  {
   "cell_type": "code",
   "execution_count": null,
   "metadata": {},
   "outputs": [],
   "source": [
    "# 파일의 내용 읽기\n",
    "\n",
    "d_score = {}\n",
    "\n",
    "with open('./1_9______/31_score_data2.txt', 'r') as f :\n",
    "    for line in f :\n",
    "        (key, value) = line.split()\n",
    "        d_score[int(key)] = value\n",
    "\n",
    "print(d_score)\n",
    "\n",
    "for key, value in d_score.items() :\n",
    "    print(key, value)\n",
    "\n",
    "for num in d_score :\n",
    "    print(num, d_score[num])\n",
    "\n"
   ]
  },
  {
   "cell_type": "code",
   "execution_count": null,
   "metadata": {},
   "outputs": [],
   "source": [
    "# 파일의 내용 읽기\n",
    "\n",
    "f1 = open('./1_9______/31_score_data2.txt', 'r')\n",
    "\n",
    "print(f1.readlines())\n",
    "f1.close()\n",
    "\n",
    "f2 = open('./1_9______/31_score_data2.txt', 'r')\n",
    "\n",
    "for line in f2.readlines() :\n",
    "    line = line.strip()\n",
    "    print(line)\n",
    "f2.close()"
   ]
  },
  {
   "cell_type": "code",
   "execution_count": null,
   "metadata": {},
   "outputs": [],
   "source": [
    "# 바이너리 파일의 읽기 쓰기\n",
    "\n",
    "f = open('./1_9______/python.png', 'rb')\n",
    "data = f.read()\n",
    "f.close()\n",
    "\n",
    "f1 = open('./1_9______/python2.png', 'wb')\n",
    "f1.write(data)\n",
    "f1.close()"
   ]
  },
  {
   "cell_type": "code",
   "execution_count": null,
   "metadata": {},
   "outputs": [],
   "source": [
    "#[연습문제] \"매수종목.txt\" 파일을 만들고 아래와 같이 입력한다.\n",
    "# 005930 삼성전자\n",
    "# 005380 현대차\n",
    "# 035420 NAVER\n",
    "\n",
    "f = open('./1_9______/매수종목.txt', 'w', encoding = 'utf-8')\n",
    "f.write('005930 삼성전자\\n005380 현대차\\n035420 NAVER')\n",
    "f.close()\n",
    "\n",
    "\n",
    "f = open('./1_9______/매수종목.txt', encoding = 'utf-8')\n",
    "lines = f.readlines()\n",
    "# ['005930 삼성전자\\n', '005380 현대차\\n', '035420 NAVER']\n",
    "\n",
    "data = {}\n",
    "for line in lines :\n",
    "    line = line.strip() #\\n제거\n",
    "    k, v = line.split() #딕셔너리로 변환\n",
    "    data[k] = v\n",
    "    \n",
    "print(data)\n",
    "f.close()"
   ]
  },
  {
   "cell_type": "code",
   "execution_count": null,
   "metadata": {},
   "outputs": [],
   "source": [
    "import numpy as np \n",
    "\n",
    "a = [1, 2, 3, 4, 5]\n",
    "#numpy는 쉼표가 없다\n",
    "b = np.array(a) # a리스트를 b에 numpy리스트로 만듬\n",
    "c = np.array([1, 3, 5])\n",
    "d = np.array([[1, 2, 3], [4, 5, 6]]) # 2차원\n",
    "\n",
    "print(a)\n",
    "print(b)\n",
    "print(c)\n",
    "print(d)"
   ]
  },
  {
   "cell_type": "code",
   "execution_count": null,
   "metadata": {},
   "outputs": [],
   "source": [
    "import numpy as np\n",
    "\n",
    "a=np.array([1,2,3,4,5])\n",
    "b=np.array([1,3,5])\n",
    "c=np.array([[1,2,3],[4,5,6]])\n",
    "d=np.array([[1,2,3],[4,5,6],[7,8,9],[10,11,12]])\n",
    "\n",
    "print(a.shape)\n",
    "print(b.shape)\n",
    "print(c.shape)\n",
    "print(d.shape)\n",
    "print(a[2])\n",
    "print(b[-1])\n",
    "print(a[1:3])\n",
    "print(c[0])\n",
    "print(c[0,2])\n",
    "print(c[0][2])\n",
    "print('d[0]:',d[0])\n",
    "print(d[0])\n",
    "print(d[0,1])"
   ]
  },
  {
   "cell_type": "code",
   "execution_count": null,
   "metadata": {},
   "outputs": [],
   "source": [
    "import numpy as np\n",
    "\n",
    "n_arr=np.array([[0,1,2,3],[4,5,6,7]],dtype='int64')\n",
    "\n",
    "print(n_arr)\n",
    "print(\"type\",type(n_arr))\n",
    "print(\"dtype\",n_arr.dtype)\n",
    "print(\"ndim:\",n_arr.ndim)\n",
    "print(\"shape\",n_arr.shape)\n",
    "print(\"size\",n_arr.size)\n",
    "print(\"itemsize:\",n_arr.itemsize)\n",
    "print(\"nbytes\",n_arr.nbytes)\n",
    "print(\"data:\",n_arr.data)\n",
    "print(\"메모리 주소:\",id(n_arr)"
   ]
  },
  {
   "cell_type": "code",
   "execution_count": 112,
   "metadata": {},
   "outputs": [
    {
     "name": "stdout",
     "output_type": "stream",
     "text": [
      "[1, 2, 3, 4, 5, 2]\n",
      "[3 4 5 6 7]\n",
      "[1, 2, 3, 4, 5, 1, 2, 3, 4, 5]\n",
      "[ 2  4  6  8 10]\n",
      "\n",
      "[1 3 5]\n",
      "[ 2 12 30]\n",
      "\n",
      "[[1 2 3]\n",
      " [4 5 6]]\n",
      "[[3 4 5]\n",
      " [6 7 8]]\n",
      "\n",
      "[[ 1  6 15]\n",
      " [ 4 15 30]]\n"
     ]
    }
   ],
   "source": [
    "import numpy as np\n",
    "\n",
    "a = [1, 2, 3, 4, 5]\n",
    "b = np.array(a)\n",
    "c = np.array([1, 3, 5])\n",
    "d = np.array([[1,2,3],[4, 5, 6]])\n",
    "\n",
    "print(a+[2]) #a리스트에 2추가\n",
    "print(b+[2]) # b NumPy리스트에 각 2를 더함\n",
    "\n",
    "print(a*2)\n",
    "print(b*2)\n",
    "print()\n",
    "print(c) \n",
    "print(c*[2, 4, 6])# c NumPy리슽에 2, 4, 6을 곱합\n",
    "print()\n",
    "print(d)\n",
    "print(d+2) # d nupy리스트에 2를 더함\n",
    "print()\n",
    "print(d * c)"
   ]
  },
  {
   "cell_type": "code",
   "execution_count": null,
   "metadata": {},
   "outputs": [],
   "source": [
    "a = np.array([1,2,3], dtype=int)\n",
    "b = np.array([1,1,2,2,3,3], dtype=float)\n",
    "c = np.array([0,1,1,0], dtype=bool)\n",
    "\n",
    "print(a)\n",
    "print(b)\n",
    "print(c)\n",
    "\n",
    "print(a.dtype)\n",
    "print(b.dtype)\n",
    "print(c.dtype)"
   ]
  },
  {
   "cell_type": "code",
   "execution_count": 111,
   "metadata": {},
   "outputs": [
    {
     "name": "stdout",
     "output_type": "stream",
     "text": [
      "a+b: [ 6  8 10 12]\n",
      "a+b [ 6  8 10 12]\n",
      "[-4 -4 -4 -4]\n",
      "[ 5 12 21 32]\n",
      "[0.2        0.33333333 0.42857143 0.5       ]\n",
      "[ 1  4  9 16]\n"
     ]
    }
   ],
   "source": [
    "import numpy as np\n",
    "\n",
    "a = np.array([1,2,3,4])\n",
    "b = np.array([5,6,7,8])\n",
    "\n",
    "print(\"a+b:\", a+b)\n",
    "print(\"a+b\", np.add(a,b))\n",
    "\n",
    "print(np.subtract(a,b))\n",
    "print(np.multiply(a,b))\n",
    "print(np.divide(a,b))\n",
    "print(a**2)"
   ]
  },
  {
   "cell_type": "code",
   "execution_count": null,
   "metadata": {},
   "outputs": [],
   "source": [
    "a = np.array([1,2,3,4])\n",
    "b = np.array([5,6,7])\n",
    "# shape이 다를 경우 연산이 되지 않는다.\n",
    "print(a+b) #error 뜸\n",
    "\n"
   ]
  },
  {
   "cell_type": "code",
   "execution_count": 35,
   "metadata": {},
   "outputs": [
    {
     "name": "stdout",
     "output_type": "stream",
     "text": [
      "a1 : [ 0  1  2  3  4  5  6  7  8  9 10 11]\n",
      "[[ 0  1  2  3]\n",
      " [ 4  5  6  7]\n",
      " [ 8  9 10 11]]\n",
      "[[ 0  1]\n",
      " [ 2  3]\n",
      " [ 4  5]\n",
      " [ 6  7]\n",
      " [ 8  9]\n",
      " [10 11]]\n",
      "[[[ 0.  1.  2.]\n",
      "  [ 3.  4.  5.]\n",
      "  [ 6.  7.  8.]\n",
      "  [ 9. 10. 11.]]\n",
      "\n",
      " [[12. 13. 14.]\n",
      "  [15. 16. 17.]\n",
      "  [18. 19. 20.]\n",
      "  [21. 22. 23.]]\n",
      "\n",
      " [[24. 25. 26.]\n",
      "  [27. 28. 29.]\n",
      "  [30. 31. 32.]\n",
      "  [33. 34. 35.]]]\n"
     ]
    }
   ],
   "source": [
    "#numpy.arange([start], stop, step], dtype=\"\")\n",
    "a1 = np.arange(12)\n",
    "print(\"a1 :\", a1)\n",
    "a2=a1.reshape(3,4)\n",
    "print(a2)\n",
    "a3=a1.reshape(6,-1)\n",
    "print(a3)\n",
    "a4 = np.arange(36,dtype=float).reshape(3,4,3)\n",
    "print(a4)"
   ]
  },
  {
   "cell_type": "code",
   "execution_count": 46,
   "metadata": {},
   "outputs": [
    {
     "name": "stdout",
     "output_type": "stream",
     "text": [
      "[[1 2]\n",
      " [3 4]]\n",
      "[1 2 3 4]\n",
      "[5 6 7 8]\n",
      "[1 2 3 4]\n",
      "[0 6 7 8]\n"
     ]
    }
   ],
   "source": [
    "a1 = np.array([[1,2],[3,4]])\n",
    "a2 = np.array([[5,6],[7,8]])\n",
    "\n",
    "np.multiply(a1,a2)\n",
    "np.matmul(a1, a2)\n",
    "print(a1)\n",
    "\n",
    "c = a1.flatten() #데이터가 새로만들어짐\n",
    "d = a2.ravel() #포인터(주소)를 유지한다.\n",
    "print(c)\n",
    "print(d)\n",
    "a1[0] = 0\n",
    "a2[0][0] = 0\n",
    "\n",
    "print(c)\n",
    "\n",
    "print(d)"
   ]
  },
  {
   "cell_type": "code",
   "execution_count": 52,
   "metadata": {},
   "outputs": [
    {
     "name": "stdout",
     "output_type": "stream",
     "text": [
      "[[ 1  2  3  4  5  6]\n",
      " [ 7  8  9 10 11 12]]\n"
     ]
    }
   ],
   "source": [
    "#1\n",
    "a1 = np.arange(1, 13).reshape(2,-1)\n",
    "print(a1)"
   ]
  },
  {
   "cell_type": "code",
   "execution_count": 53,
   "metadata": {},
   "outputs": [
    {
     "name": "stdout",
     "output_type": "stream",
     "text": [
      "[[ 1  2  3  4  5  6  7  8  9 10]\n",
      " [11 12 13 14 15 16 17 18 19 20]\n",
      " [21 22 23 24 25 26 27 28 29 30]]\n"
     ]
    }
   ],
   "source": [
    "#2\n",
    "a2 = np.arange(1,31).reshape(3,-1)\n",
    "print(a2)"
   ]
  },
  {
   "cell_type": "code",
   "execution_count": 55,
   "metadata": {},
   "outputs": [
    {
     "name": "stdout",
     "output_type": "stream",
     "text": [
      "[[ 1  2  3  4  5]\n",
      " [ 6  7  8  9 10]\n",
      " [11 12 13 14 15]\n",
      " [16 17 18 19 20]\n",
      " [21 22 23 24 25]\n",
      " [26 27 28 29 30]]\n"
     ]
    }
   ],
   "source": [
    "#3\n",
    "a3 = np.arange(1,31).reshape(6,-1)\n",
    "print(a3)"
   ]
  },
  {
   "cell_type": "code",
   "execution_count": 59,
   "metadata": {},
   "outputs": [
    {
     "name": "stdout",
     "output_type": "stream",
     "text": [
      "[[ 1  6 11 16 21 26]\n",
      " [ 2  7 12 17 22 27]\n",
      " [ 3  8 13 18 23 28]\n",
      " [ 4  9 14 19 24 29]\n",
      " [ 5 10 15 20 25 30]]\n"
     ]
    }
   ],
   "source": [
    "a4 = a3.transpose() #행과열을 바꿈\n",
    "print(a4)"
   ]
  },
  {
   "cell_type": "code",
   "execution_count": 67,
   "metadata": {},
   "outputs": [
    {
     "name": "stdout",
     "output_type": "stream",
     "text": [
      "False\n",
      "[False  True False  True]\n"
     ]
    }
   ],
   "source": [
    "a1 =np.array([1,2,3,4])\n",
    "a2 =np.array([5,2,7,4])\n",
    "\n",
    "a1 == a2\n",
    "\n",
    "print(np.array_equal(a1,a2))\n",
    "print(a1 >= a2)\n"
   ]
  },
  {
   "cell_type": "code",
   "execution_count": 75,
   "metadata": {},
   "outputs": [
    {
     "name": "stdout",
     "output_type": "stream",
     "text": [
      "[0 1 2 3 4 5 6]\n",
      "[4 2 6 5 1 3 0]\n",
      "[0 1 2 3 4 5 6]\n",
      "[6 5 4 3 2 1 0]\n",
      "[0 1 2 3 4 5 6]\n"
     ]
    }
   ],
   "source": [
    "a = np.array([4,2,6,5,1,3,0])\n",
    "\n",
    "print(np.sort(a))# veiw\n",
    "print(a)\n",
    "\n",
    "a.sort()#a의 자체를 정렬\n",
    "print(a)\n",
    "\n",
    "print(np.sort(a)[::-1])\n",
    "print(a)"
   ]
  },
  {
   "cell_type": "code",
   "execution_count": 80,
   "metadata": {},
   "outputs": [
    {
     "name": "stdout",
     "output_type": "stream",
     "text": [
      "[[0 1]\n",
      " [2 3]\n",
      " [4 5]]\n"
     ]
    }
   ],
   "source": [
    "import numpy as np\n",
    "\n",
    "s = np.arange(0, 6).reshape(3,2)\n",
    "print(s)"
   ]
  },
  {
   "cell_type": "code",
   "execution_count": 157,
   "metadata": {},
   "outputs": [
    {
     "name": "stdout",
     "output_type": "stream",
     "text": [
      "[ 1  5  9 13]\n",
      "\n",
      "[ 1  5  9 13]\n",
      "\n",
      "[ 9 10 11]\n",
      "[[0 1]\n",
      " [4 5]]\n",
      "[[ 5  6]\n",
      " [ 9 10]]\n",
      "\n",
      "[[12 13 14 15]]\n"
     ]
    }
   ],
   "source": [
    "k = np.arange(0, 16).reshape(4,4)\n",
    "#print(k)\n",
    "\n",
    "a = k.transpose()[1]\n",
    "print(a) \n",
    "print()\n",
    "a = k[:,1]\n",
    "print(a)\n",
    "print()\n",
    "b = k[2][1:4]\n",
    "print(b)\n",
    "\n",
    "c = k[:2, :2]\n",
    "print(c) \n",
    "d = k[1:3, 1:3]\n",
    "print(d)\n",
    "print()\n"
   ]
  }
 ],
 "metadata": {
  "kernelspec": {
   "display_name": "Python 3",
   "language": "python",
   "name": "python3"
  },
  "language_info": {
   "codemirror_mode": {
    "name": "ipython",
    "version": 3
   },
   "file_extension": ".py",
   "mimetype": "text/x-python",
   "name": "python",
   "nbconvert_exporter": "python",
   "pygments_lexer": "ipython3",
   "version": "3.12.1"
  }
 },
 "nbformat": 4,
 "nbformat_minor": 2
}
